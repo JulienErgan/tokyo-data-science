{
 "cells": [
  {
   "cell_type": "code",
   "execution_count": null,
   "metadata": {},
   "outputs": [],
   "source": [
    "# Notebook adapted from Jeremy P. Howard"
   ]
  },
  {
   "cell_type": "code",
   "execution_count": 2,
   "metadata": {},
   "outputs": [],
   "source": [
    "import numpy as np\n",
    "from numpy.random import random, randn\n",
    "from matplotlib import pyplot as plt, animation, rcParams, rc\n",
    "rc('animation',html='html5')\n",
    "rcParams['figure.figsize'] = 3, 3"
   ]
  },
  {
   "cell_type": "code",
   "execution_count": 3,
   "metadata": {},
   "outputs": [],
   "source": [
    "# Define the quadratic function"
   ]
  },
  {
   "cell_type": "code",
   "execution_count": 4,
   "metadata": {},
   "outputs": [],
   "source": [
    "def quadratic_function(alpha,beta,gamma,x): \n",
    "    return alpha+beta*x+gamma*x**2"
   ]
  },
  {
   "cell_type": "code",
   "execution_count": 5,
   "metadata": {},
   "outputs": [],
   "source": [
    "# This generate the random data points"
   ]
  },
  {
   "cell_type": "code",
   "execution_count": 6,
   "metadata": {},
   "outputs": [],
   "source": [
    "gamma_true = 8.0\n",
    "beta_true = 6.0\n",
    "alpha_true = 3.0\n",
    "n = 30\n",
    "x = random(n)\n",
    "y = quadratic_function(alpha_true,beta_true,gamma_true,x)+0.2*randn(n)\n",
    "gamma = 4\n",
    "beta = -1.\n",
    "alpha = 3.\n",
    "learning_rate = 0.01"
   ]
  },
  {
   "cell_type": "code",
   "execution_count": 7,
   "metadata": {},
   "outputs": [],
   "source": [
    "# Implemtentation of the gradient descent"
   ]
  },
  {
   "cell_type": "code",
   "execution_count": 8,
   "metadata": {},
   "outputs": [],
   "source": [
    "def update_alpha_beta_gamma():\n",
    "    global alpha, beta, gamma\n",
    "    y_predicted = quadratic_function(alpha,beta,gamma,x)\n",
    "    derivative_of_loss_wrt_alpha = 2*(y_predicted-y)\n",
    "    derivative_of_loss_wrt_beta = x* derivative_of_loss_wrt_alpha\n",
    "    derivative_of_loss_wrt_gamma = x* derivative_of_loss_wrt_beta\n",
    "    alpha = alpha - learning_rate*derivative_of_loss_wrt_alpha.mean()\n",
    "    beta = beta - learning_rate*derivative_of_loss_wrt_beta.mean()\n",
    "    gamma = gamma - learning_rate*derivative_of_loss_wrt_gamma.mean()\n",
    "def animate(i):\n",
    "    x = np.linspace(0,1,100)\n",
    "    y = quadratic_function(alpha,beta,gamma,x)\n",
    "    line.set_data(x,y)\n",
    "    for i in range(20): \n",
    "        update_alpha_beta_gamma()\n",
    "    return (line,)"
   ]
  },
  {
   "cell_type": "code",
   "execution_count": 9,
   "metadata": {},
   "outputs": [
    {
     "data": {
      "image/png": "[encoded data removed]",
      "text/plain": [
       "<Figure size 560x560 with 1 Axes>"
      ]
     },
     "metadata": {
      "needs_background": "light"
     },
     "output_type": "display_data"
    }
   ],
   "source": [
    "fig = plt.figure(dpi=80,figsize=(7,7))\n",
    "ax = fig.add_subplot(111)\n",
    "ax.set_xlim((0,1))\n",
    "ax.set_ylim((-2,15))\n",
    "plt.scatter(x,y)\n",
    "line, = ax.plot([],[],lw=2)"
   ]
  },
  {
   "cell_type": "code",
   "execution_count": 10,
   "metadata": {},
   "outputs": [],
   "source": [
    "resulting_animation = animation.FuncAnimation(fig,animate,np.arange(0,250),interval=100)"
   ]
  },
  {
   "cell_type": "code",
   "execution_count": 11,
   "metadata": {},
   "outputs": [],
   "source": [
    "# Comment out (or delete) the following command, which shows the animation in Jupyter Notebook, \n",
    "# if you want the mp4 saved to disk to be correctly animated. \n",
    "# (Alternatively, you can reset the values of alpha and beta to their initial values \n",
    "# after this command.)\n",
    "\n",
    "# resulting_animation"
   ]
  },
  {
   "cell_type": "code",
   "execution_count": 12,
   "metadata": {},
   "outputs": [],
   "source": [
    "Writer = animation.writers['ffmpeg']\n",
    "writer = Writer(fps=15, metadata=dict(artist='Me'), bitrate=1800)\n",
    "resulting_animation.save('resulting_animation.mp4', writer=writer)"
   ]
  },
  {
   "cell_type": "code",
   "execution_count": 13,
   "metadata": {},
   "outputs": [
    {
     "name": "stdout",
     "output_type": "stream",
     "text": [
      "Done.\n"
     ]
    }
   ],
   "source": [
    "print('Done.')"
   ]
  }
 ],
 "metadata": {
  "kernelspec": {
   "display_name": "Python 3",
   "language": "python",
   "name": "python3"
  },
  "language_info": {
   "codemirror_mode": {
    "name": "ipython",
    "version": 3
   },
   "file_extension": ".py",
   "mimetype": "text/x-python",
   "name": "python",
   "nbconvert_exporter": "python",
   "pygments_lexer": "ipython3",
   "version": "3.7.6"
  }
 },
 "nbformat": 4,
 "nbformat_minor": 4
}
